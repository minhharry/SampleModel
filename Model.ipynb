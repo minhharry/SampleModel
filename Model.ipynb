{
 "cells": [
  {
   "cell_type": "code",
   "execution_count": null,
   "metadata": {},
   "outputs": [],
   "source": [
    "import torch\n",
    "from torch import nn\n",
    "\n",
    "import torchvision\n",
    "from torchvision import datasets\n",
    "from torchvision.transforms import ToTensor\n",
    "\n",
    "from torch.utils.data import DataLoader\n",
    "\n",
    "import matplotlib.pyplot as plt\n",
    "import random\n",
    "\n",
    "from torchinfo import summary\n",
    "from tqdm.auto import tqdm\n",
    "\n",
    "print(f\"PyTorch version: {torch.__version__}\\ntorchvision version: {torchvision.__version__}\")"
   ]
  },
  {
   "cell_type": "code",
   "execution_count": null,
   "metadata": {},
   "outputs": [],
   "source": [
    "train_data = datasets.FashionMNIST('data', True, ToTensor(), download=True)\n",
    "test_data = datasets.FashionMNIST('data', False, ToTensor(), download=True)"
   ]
  },
  {
   "cell_type": "code",
   "execution_count": null,
   "metadata": {},
   "outputs": [],
   "source": [
    "BATCH_SIZE = 32\n",
    "train_dataloader = DataLoader(train_data, BATCH_SIZE, True)\n",
    "test_dataloader = DataLoader(test_data, BATCH_SIZE, False)"
   ]
  },
  {
   "cell_type": "code",
   "execution_count": null,
   "metadata": {},
   "outputs": [],
   "source": [
    "train_data.classes"
   ]
  },
  {
   "cell_type": "code",
   "execution_count": null,
   "metadata": {},
   "outputs": [],
   "source": [
    "def visualizeData(data):\n",
    "    idx = random.randint(0, len(data))\n",
    "    img, label = data[idx]\n",
    "    plt.imshow(img.squeeze())\n",
    "    plt.title(data.classes[label])\n",
    "    plt.show()"
   ]
  },
  {
   "cell_type": "code",
   "execution_count": null,
   "metadata": {},
   "outputs": [],
   "source": [
    "train_data[0][0].shape"
   ]
  },
  {
   "cell_type": "code",
   "execution_count": null,
   "metadata": {},
   "outputs": [],
   "source": [
    "class SampleModel(nn.Module):\n",
    "    def __init__(self, scale=2, use_gradient_checkpoint=False):\n",
    "        super().__init__()\n",
    "        self.block1 = nn.Sequential(\n",
    "            nn.Conv2d(1, 128*scale, 3, 1, 1),\n",
    "            nn.GELU(),\n",
    "            nn.BatchNorm2d(128*scale),\n",
    "            nn.Conv2d(128*scale, 256*scale, 3, 1, 1),\n",
    "            nn.GELU(),\n",
    "            nn.BatchNorm2d(256*scale),\n",
    "            nn.MaxPool2d(2),\n",
    "            nn.Conv2d(256*scale, 256*scale, 3, 1, 1),\n",
    "            nn.GELU(),\n",
    "            nn.BatchNorm2d(256*scale),\n",
    "            nn.Conv2d(256*scale, 512*scale, 3, 1, 1),\n",
    "            nn.GELU(),\n",
    "            nn.BatchNorm2d(512*scale),\n",
    "            nn.MaxPool2d(2),\n",
    "            nn.Conv2d(512*scale, 512*scale, 3, 1, 1),\n",
    "            nn.GELU(),\n",
    "            nn.BatchNorm2d(512*scale),\n",
    "            nn.Conv2d(512*scale, 10, 3, 1, 1),\n",
    "            nn.GELU(),\n",
    "            nn.BatchNorm2d(10),\n",
    "            nn.Flatten(),\n",
    "            nn.Linear(490, 10),\n",
    "        )\n",
    "        self.use_gradient_checkpoint = use_gradient_checkpoint\n",
    "    def forward(self, x):\n",
    "        if not self.use_gradient_checkpoint:\n",
    "            return self.block1(x)\n",
    "        \n",
    "        x = torch.utils.checkpoint.checkpoint_sequential(self.block1, 10, x, use_reentrant=False)\n",
    "        return x\n",
    "model = SampleModel(use_gradient_checkpoint=True)\n",
    "#summary(model, (BATCH_SIZE, 1, 28, 28))"
   ]
  },
  {
   "cell_type": "code",
   "execution_count": null,
   "metadata": {},
   "outputs": [],
   "source": [
    "device = 'cpu'\n",
    "if torch.cuda.is_available():\n",
    "    device = 'cuda'\n",
    "model.to(device)"
   ]
  },
  {
   "cell_type": "code",
   "execution_count": null,
   "metadata": {},
   "outputs": [],
   "source": [
    "optimizer = torch.optim.Adam(model.parameters(), 0.001)\n",
    "loss_fn = torch.nn.CrossEntropyLoss()\n",
    "scheduler = torch.optim.lr_scheduler.ReduceLROnPlateau(optimizer, 'min', 0.1, 5)\n",
    "def accuracy_fn(y_pred, y_true):\n",
    "    num = 0\n",
    "    for i in range(len(y_true)):\n",
    "        num += (y_true[i] == y_pred[i])\n",
    "    return 100.0*num/len(y_true)"
   ]
  },
  {
   "cell_type": "code",
   "execution_count": null,
   "metadata": {},
   "outputs": [],
   "source": [
    "def train(model, train_dataloader, test_dataloader, device, epochs=1, save=False, savefilename='model.pth'):\n",
    "    best_test_loss = 1e9\n",
    "    for epoch in range(epochs):\n",
    "        print(f'Epoch: {epoch}')\n",
    "        model.train()\n",
    "        train_loss = 0\n",
    "        for (X, y) in tqdm(train_dataloader):\n",
    "            X = X.to(device)\n",
    "            y = y.to(device)\n",
    "\n",
    "            y_pred = model(X)\n",
    "            loss = loss_fn(y_pred, y)\n",
    "            optimizer.zero_grad()\n",
    "            loss.backward()\n",
    "            optimizer.step()\n",
    "            train_loss += loss\n",
    "        train_loss /= len(train_dataloader)\n",
    "        print(f'Train loss: {train_loss}')\n",
    "        scheduler.step(train_loss)\n",
    "        test_acc = 0\n",
    "        test_loss = 0\n",
    "        model.eval()\n",
    "        with torch.inference_mode():\n",
    "            for (X, y) in test_dataloader:\n",
    "                X = X.to(device)\n",
    "                y = y.to(device)\n",
    "\n",
    "                y_pred = model(X)\n",
    "                test_acc += accuracy_fn(torch.argmax(y_pred, dim=1), y)\n",
    "                test_loss += loss_fn(y_pred, y)\n",
    "            test_acc /= len(test_dataloader)\n",
    "            test_loss /= len(test_dataloader)\n",
    "            if save and test_loss < best_test_loss:\n",
    "                best_test_loss = test_loss\n",
    "                torch.save(model.state_dict(), savefilename)\n",
    "                print(\"Saved\")\n",
    "            print(f'Test loss: {test_loss}, Test acc: {test_acc:.2f}%')\n"
   ]
  },
  {
   "cell_type": "code",
   "execution_count": null,
   "metadata": {},
   "outputs": [],
   "source": [
    "train(model, train_dataloader, test_dataloader, device, save=True, epochs=1)"
   ]
  },
  {
   "cell_type": "code",
   "execution_count": null,
   "metadata": {},
   "outputs": [],
   "source": [
    "def visualizeModelPredict(model, data):\n",
    "    fig, axs = plt.subplots(2, 5, figsize=(15, 6))\n",
    "    for i in range(2):\n",
    "        for j in range(5):\n",
    "            idx = random.randint(0, len(data))\n",
    "            img, label = data[idx]\n",
    "            model.eval()\n",
    "            with torch.inference_mode():\n",
    "                pred = data.classes[torch.argmax(model(data[idx][0].unsqueeze(dim=0).to(device)), dim=1)]\n",
    "                truth = data.classes[label]\n",
    "                axs[i, j].imshow(img.squeeze(), cmap='gray')\n",
    "                if pred == truth:\n",
    "                    axs[i, j].set_title('Pred:'+pred+', Truth:'+truth, color='green')\n",
    "                else:\n",
    "                    axs[i, j].set_title('Pred:'+pred+', Truth:'+truth, color='red')\n",
    "                axs[i, j].axis('off')\n",
    "    plt.show()"
   ]
  },
  {
   "cell_type": "code",
   "execution_count": null,
   "metadata": {},
   "outputs": [],
   "source": [
    "visualizeModelPredict(model, test_data)"
   ]
  }
 ],
 "metadata": {
  "kernelspec": {
   "display_name": "Python 3.11.8 64-bit",
   "language": "python",
   "name": "python3"
  },
  "language_info": {
   "codemirror_mode": {
    "name": "ipython",
    "version": 3
   },
   "file_extension": ".py",
   "mimetype": "text/x-python",
   "name": "python",
   "nbconvert_exporter": "python",
   "pygments_lexer": "ipython3",
   "version": "3.11.8"
  },
  "orig_nbformat": 4,
  "vscode": {
   "interpreter": {
    "hash": "ff4b1fca65a764b45acb559e482afe389d289dd599b9f8c5fd12ff5c2ea46a65"
   }
  }
 },
 "nbformat": 4,
 "nbformat_minor": 2
}
