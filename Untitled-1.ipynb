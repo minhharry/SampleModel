{
 "cells": [
  {
   "cell_type": "code",
   "execution_count": 1,
   "metadata": {},
   "outputs": [
    {
     "name": "stdout",
     "output_type": "stream",
     "text": [
      "PyTorch version: 2.0.1+cu117\n",
      "torchvision version: 0.15.2+cu117\n"
     ]
    }
   ],
   "source": [
    "import torch\n",
    "from torch import nn\n",
    "\n",
    "import torchvision\n",
    "from torchvision import datasets\n",
    "from torchvision.transforms import ToTensor\n",
    "\n",
    "from torch.utils.data import DataLoader\n",
    "\n",
    "import matplotlib.pyplot as plt\n",
    "import random\n",
    "\n",
    "from torchinfo import summary\n",
    "\n",
    "print(f\"PyTorch version: {torch.__version__}\\ntorchvision version: {torchvision.__version__}\")"
   ]
  },
  {
   "cell_type": "code",
   "execution_count": 2,
   "metadata": {},
   "outputs": [],
   "source": [
    "train_data = datasets.FashionMNIST('data', True, ToTensor(), download=True)\n",
    "test_data = datasets.FashionMNIST('data', False, ToTensor(), download=True)"
   ]
  },
  {
   "cell_type": "code",
   "execution_count": 3,
   "metadata": {},
   "outputs": [],
   "source": [
    "BATCH_SIZE = 32\n",
    "train_dataloader = DataLoader(train_data, BATCH_SIZE, True)\n",
    "test_dataloader = DataLoader(test_data, BATCH_SIZE, False)"
   ]
  },
  {
   "cell_type": "code",
   "execution_count": 4,
   "metadata": {},
   "outputs": [
    {
     "data": {
      "text/plain": [
       "['T-shirt/top',\n",
       " 'Trouser',\n",
       " 'Pullover',\n",
       " 'Dress',\n",
       " 'Coat',\n",
       " 'Sandal',\n",
       " 'Shirt',\n",
       " 'Sneaker',\n",
       " 'Bag',\n",
       " 'Ankle boot']"
      ]
     },
     "execution_count": 4,
     "metadata": {},
     "output_type": "execute_result"
    }
   ],
   "source": [
    "train_data.classes"
   ]
  },
  {
   "cell_type": "code",
   "execution_count": 5,
   "metadata": {},
   "outputs": [],
   "source": [
    "def visualizeData(data):\n",
    "    idx = random.randint(0, len(data))\n",
    "    img, label = data[idx]\n",
    "    plt.imshow(img.squeeze())\n",
    "    plt.title(data.classes[label])\n",
    "    plt.show()"
   ]
  },
  {
   "cell_type": "code",
   "execution_count": 6,
   "metadata": {},
   "outputs": [
    {
     "data": {
      "text/plain": [
       "torch.Size([1, 28, 28])"
      ]
     },
     "execution_count": 6,
     "metadata": {},
     "output_type": "execute_result"
    }
   ],
   "source": [
    "train_data[0][0].shape"
   ]
  },
  {
   "cell_type": "code",
   "execution_count": 7,
   "metadata": {},
   "outputs": [
    {
     "data": {
      "text/plain": [
       "==========================================================================================\n",
       "Layer (type:depth-idx)                   Output Shape              Param #\n",
       "==========================================================================================\n",
       "SampleModel                              [32, 10]                  --\n",
       "├─Sequential: 1-1                        [32, 10]                  --\n",
       "│    └─Conv2d: 2-1                       [32, 10, 28, 28]          100\n",
       "│    └─GELU: 2-2                         [32, 10, 28, 28]          --\n",
       "│    └─Conv2d: 2-3                       [32, 10, 28, 28]          910\n",
       "│    └─GELU: 2-4                         [32, 10, 28, 28]          --\n",
       "│    └─MaxPool2d: 2-5                    [32, 10, 14, 14]          --\n",
       "│    └─Conv2d: 2-6                       [32, 10, 14, 14]          910\n",
       "│    └─GELU: 2-7                         [32, 10, 14, 14]          --\n",
       "│    └─Conv2d: 2-8                       [32, 10, 14, 14]          910\n",
       "│    └─GELU: 2-9                         [32, 10, 14, 14]          --\n",
       "│    └─MaxPool2d: 2-10                   [32, 10, 7, 7]            --\n",
       "│    └─Flatten: 2-11                     [32, 490]                 --\n",
       "│    └─Linear: 2-12                      [32, 10]                  4,910\n",
       "==========================================================================================\n",
       "Total params: 7,740\n",
       "Trainable params: 7,740\n",
       "Non-trainable params: 0\n",
       "Total mult-adds (M): 36.91\n",
       "==========================================================================================\n",
       "Input size (MB): 0.10\n",
       "Forward/backward pass size (MB): 5.02\n",
       "Params size (MB): 0.03\n",
       "Estimated Total Size (MB): 5.15\n",
       "=========================================================================================="
      ]
     },
     "execution_count": 7,
     "metadata": {},
     "output_type": "execute_result"
    }
   ],
   "source": [
    "class SampleModel(nn.Module):\n",
    "    def __init__(self):\n",
    "        super().__init__()\n",
    "        self.layers = nn.Sequential(\n",
    "            nn.Conv2d(1, 10, 3, 1, 1),\n",
    "            nn.GELU(),\n",
    "            nn.Conv2d(10, 10, 3, 1, 1),\n",
    "            nn.GELU(),\n",
    "            nn.MaxPool2d(2),\n",
    "            nn.Conv2d(10, 10, 3, 1, 1),\n",
    "            nn.GELU(),\n",
    "            nn.Conv2d(10, 10, 3, 1, 1),\n",
    "            nn.GELU(),\n",
    "            nn.MaxPool2d(2),\n",
    "            nn.Flatten(),\n",
    "            nn.Linear(490, 10),\n",
    "        )\n",
    "    def forward(self, x):\n",
    "        x = self.layers(x)\n",
    "        return x\n",
    "model = SampleModel()\n",
    "summary(model, (BATCH_SIZE, 1, 28, 28))"
   ]
  },
  {
   "cell_type": "code",
   "execution_count": 8,
   "metadata": {},
   "outputs": [
    {
     "data": {
      "text/plain": [
       "SampleModel(\n",
       "  (layers): Sequential(\n",
       "    (0): Conv2d(1, 10, kernel_size=(3, 3), stride=(1, 1), padding=(1, 1))\n",
       "    (1): GELU(approximate='none')\n",
       "    (2): Conv2d(10, 10, kernel_size=(3, 3), stride=(1, 1), padding=(1, 1))\n",
       "    (3): GELU(approximate='none')\n",
       "    (4): MaxPool2d(kernel_size=2, stride=2, padding=0, dilation=1, ceil_mode=False)\n",
       "    (5): Conv2d(10, 10, kernel_size=(3, 3), stride=(1, 1), padding=(1, 1))\n",
       "    (6): GELU(approximate='none')\n",
       "    (7): Conv2d(10, 10, kernel_size=(3, 3), stride=(1, 1), padding=(1, 1))\n",
       "    (8): GELU(approximate='none')\n",
       "    (9): MaxPool2d(kernel_size=2, stride=2, padding=0, dilation=1, ceil_mode=False)\n",
       "    (10): Flatten(start_dim=1, end_dim=-1)\n",
       "    (11): Linear(in_features=490, out_features=10, bias=True)\n",
       "  )\n",
       ")"
      ]
     },
     "execution_count": 8,
     "metadata": {},
     "output_type": "execute_result"
    }
   ],
   "source": [
    "device = 'cpu'\n",
    "if torch.cuda.is_available():\n",
    "    device = 'cuda'\n",
    "model.to(device)"
   ]
  },
  {
   "cell_type": "code",
   "execution_count": 9,
   "metadata": {},
   "outputs": [],
   "source": [
    "optimizer = torch.optim.Adam(model.parameters(), 0.001)\n",
    "loss_fn = torch.nn.CrossEntropyLoss()\n",
    "scheduler = torch.optim.lr_scheduler.ReduceLROnPlateau(optimizer, 'min', 0.1, 5, verbose=True)\n",
    "def accuracy_fn(y_pred, y_true):\n",
    "    num = 0\n",
    "    for i in range(len(y_true)):\n",
    "        num += (y_true[i] == y_pred[i])\n",
    "    return 100.0*num/len(y_true)"
   ]
  },
  {
   "cell_type": "code",
   "execution_count": 10,
   "metadata": {},
   "outputs": [],
   "source": [
    "def train(model, train_dataloader, test_dataloader, device, epochs=1, save=False, savefilename='model.pth'):\n",
    "    best_test_loss = 1e9\n",
    "    for epoch in range(epochs):\n",
    "        print(f'Epoch: {epoch}')\n",
    "        model.train()\n",
    "        train_loss = 0\n",
    "        for (X, y) in train_dataloader:\n",
    "            X = X.to(device)\n",
    "            y = y.to(device)\n",
    "\n",
    "            y_pred = model(X)\n",
    "            loss = loss_fn(y_pred, y)\n",
    "            optimizer.zero_grad()\n",
    "            loss.backward()\n",
    "            optimizer.step()\n",
    "            train_loss += loss\n",
    "        train_loss /= len(train_dataloader)\n",
    "        print(f'Train loss: {train_loss}')\n",
    "        scheduler.step(train_loss)\n",
    "        test_acc = 0\n",
    "        test_loss = 0\n",
    "        model.eval()\n",
    "        with torch.inference_mode():\n",
    "            for (X, y) in test_dataloader:\n",
    "                X = X.to(device)\n",
    "                y = y.to(device)\n",
    "\n",
    "                y_pred = model(X)\n",
    "                test_acc += accuracy_fn(torch.argmax(y_pred, dim=1), y)\n",
    "                test_loss += loss_fn(y_pred, y)\n",
    "            test_acc /= len(test_dataloader)\n",
    "            test_loss /= len(test_dataloader)\n",
    "            if save and test_loss < best_test_loss:\n",
    "                best_test_loss = test_loss\n",
    "                torch.save(model.state_dict(), savefilename)\n",
    "                print(\"Saved\")\n",
    "            print(f'Test loss: {test_loss}, Test acc: {test_acc:.2f}%')\n"
   ]
  },
  {
   "cell_type": "code",
   "execution_count": 11,
   "metadata": {},
   "outputs": [
    {
     "name": "stdout",
     "output_type": "stream",
     "text": [
      "Epoch: 0\n",
      "Train loss: 0.572509229183197\n",
      "Saved\n",
      "Test loss: 0.40971046686172485, Test acc: 84.99%\n",
      "Epoch: 1\n",
      "Train loss: 0.36302614212036133\n",
      "Saved\n",
      "Test loss: 0.3596327006816864, Test acc: 87.18%\n",
      "Epoch: 2\n",
      "Train loss: 0.31917744874954224\n",
      "Saved\n",
      "Test loss: 0.33023712038993835, Test acc: 88.23%\n",
      "Epoch: 3\n",
      "Train loss: 0.2904694676399231\n",
      "Saved\n",
      "Test loss: 0.3229772746562958, Test acc: 88.17%\n",
      "Epoch: 4\n",
      "Train loss: 0.27018535137176514\n",
      "Saved\n",
      "Test loss: 0.3007621467113495, Test acc: 89.17%\n",
      "Epoch: 5\n",
      "Train loss: 0.2576151192188263\n",
      "Saved\n",
      "Test loss: 0.2907958924770355, Test acc: 89.56%\n",
      "Epoch: 6\n",
      "Train loss: 0.24623635411262512\n",
      "Saved\n",
      "Test loss: 0.27566730976104736, Test acc: 90.16%\n",
      "Epoch: 7\n",
      "Train loss: 0.23658710718154907\n",
      "Saved\n",
      "Test loss: 0.26902347803115845, Test acc: 90.34%\n",
      "Epoch: 8\n",
      "Train loss: 0.22704213857650757\n",
      "Saved\n",
      "Test loss: 0.26404714584350586, Test acc: 90.57%\n",
      "Epoch: 9\n",
      "Train loss: 0.2202371060848236\n",
      "Saved\n",
      "Test loss: 0.2633715271949768, Test acc: 90.51%\n",
      "Epoch: 10\n",
      "Train loss: 0.2141367495059967\n",
      "Saved\n",
      "Test loss: 0.255619615316391, Test acc: 90.84%\n",
      "Epoch: 11\n",
      "Train loss: 0.20938782393932343\n",
      "Test loss: 0.25694039463996887, Test acc: 90.97%\n",
      "Epoch: 12\n",
      "Train loss: 0.20365750789642334\n",
      "Test loss: 0.2581072747707367, Test acc: 90.86%\n",
      "Epoch: 13\n",
      "Train loss: 0.2001374214887619\n",
      "Test loss: 0.26114293932914734, Test acc: 90.74%\n",
      "Epoch: 14\n",
      "Train loss: 0.1954818069934845\n",
      "Test loss: 0.25630640983581543, Test acc: 90.93%\n",
      "Epoch: 15\n",
      "Train loss: 0.1913755089044571\n",
      "Test loss: 0.2603040933609009, Test acc: 91.01%\n",
      "Epoch: 16\n",
      "Train loss: 0.18838414549827576\n",
      "Test loss: 0.26055341958999634, Test acc: 90.85%\n",
      "Epoch: 17\n",
      "Train loss: 0.18614612519741058\n",
      "Test loss: 0.27242934703826904, Test acc: 90.86%\n",
      "Epoch: 18\n",
      "Train loss: 0.18298420310020447\n",
      "Test loss: 0.25759458541870117, Test acc: 90.88%\n",
      "Epoch: 19\n",
      "Train loss: 0.18018829822540283\n",
      "Saved\n",
      "Test loss: 0.25192704796791077, Test acc: 91.27%\n",
      "Epoch: 20\n",
      "Train loss: 0.17798416316509247\n",
      "Test loss: 0.2557235658168793, Test acc: 91.13%\n",
      "Epoch: 21\n",
      "Train loss: 0.1751655787229538\n",
      "Test loss: 0.2701689600944519, Test acc: 90.81%\n",
      "Epoch: 22\n",
      "Train loss: 0.17395877838134766\n",
      "Test loss: 0.2699318826198578, Test acc: 90.61%\n",
      "Epoch: 23\n",
      "Train loss: 0.16988040506839752\n",
      "Test loss: 0.2618524432182312, Test acc: 91.17%\n",
      "Epoch: 24\n",
      "Train loss: 0.16911117732524872\n",
      "Test loss: 0.25986793637275696, Test acc: 91.23%\n",
      "Epoch: 25\n",
      "Train loss: 0.16883546113967896\n",
      "Test loss: 0.2648642659187317, Test acc: 91.00%\n",
      "Epoch: 26\n",
      "Train loss: 0.166524276137352\n",
      "Test loss: 0.26287034153938293, Test acc: 90.77%\n",
      "Epoch: 27\n",
      "Train loss: 0.16386602818965912\n",
      "Test loss: 0.26132023334503174, Test acc: 91.04%\n",
      "Epoch: 28\n",
      "Train loss: 0.16196686029434204\n",
      "Test loss: 0.26962313055992126, Test acc: 91.03%\n",
      "Epoch: 29\n",
      "Train loss: 0.15992331504821777\n",
      "Test loss: 0.264899343252182, Test acc: 90.94%\n",
      "Epoch: 30\n",
      "Train loss: 0.1591087430715561\n",
      "Test loss: 0.271708220243454, Test acc: 90.88%\n",
      "Epoch: 31\n",
      "Train loss: 0.15780845284461975\n",
      "Test loss: 0.26390451192855835, Test acc: 91.01%\n",
      "Epoch: 32\n",
      "Train loss: 0.15716741979122162\n",
      "Test loss: 0.29166725277900696, Test acc: 90.61%\n",
      "Epoch: 33\n",
      "Train loss: 0.15676456689834595\n",
      "Test loss: 0.2737829089164734, Test acc: 90.97%\n",
      "Epoch: 34\n",
      "Train loss: 0.1544150412082672\n",
      "Test loss: 0.26909565925598145, Test acc: 91.08%\n",
      "Epoch: 35\n",
      "Train loss: 0.15347203612327576\n",
      "Test loss: 0.27364102005958557, Test acc: 91.20%\n",
      "Epoch: 36\n",
      "Train loss: 0.15081673860549927\n",
      "Test loss: 0.2783717215061188, Test acc: 91.11%\n",
      "Epoch: 37\n",
      "Train loss: 0.15041889250278473\n",
      "Test loss: 0.27726277709007263, Test acc: 91.16%\n",
      "Epoch: 38\n",
      "Train loss: 0.14960691332817078\n",
      "Test loss: 0.27800968289375305, Test acc: 90.92%\n",
      "Epoch: 39\n",
      "Train loss: 0.1478089839220047\n",
      "Test loss: 0.29437315464019775, Test acc: 90.77%\n",
      "Epoch: 40\n",
      "Train loss: 0.14741036295890808\n",
      "Test loss: 0.27840134501457214, Test acc: 91.05%\n",
      "Epoch: 41\n",
      "Train loss: 0.14641167223453522\n",
      "Test loss: 0.287668913602829, Test acc: 90.98%\n",
      "Epoch: 42\n",
      "Train loss: 0.14484046399593353\n",
      "Test loss: 0.2912934124469757, Test acc: 91.04%\n",
      "Epoch: 43\n",
      "Train loss: 0.14464788138866425\n",
      "Test loss: 0.2838841676712036, Test acc: 90.93%\n",
      "Epoch: 44\n",
      "Train loss: 0.1437021791934967\n",
      "Test loss: 0.28654277324676514, Test acc: 90.90%\n",
      "Epoch: 45\n",
      "Train loss: 0.14253932237625122\n",
      "Test loss: 0.29045841097831726, Test acc: 91.03%\n",
      "Epoch: 46\n",
      "Train loss: 0.14214427769184113\n",
      "Test loss: 0.2853414714336395, Test acc: 90.90%\n",
      "Epoch: 47\n",
      "Train loss: 0.14152798056602478\n",
      "Test loss: 0.28772640228271484, Test acc: 90.98%\n",
      "Epoch: 48\n",
      "Train loss: 0.140507772564888\n",
      "Test loss: 0.2829263508319855, Test acc: 91.14%\n",
      "Epoch: 49\n",
      "Train loss: 0.13963499665260315\n",
      "Test loss: 0.2906385064125061, Test acc: 91.01%\n"
     ]
    }
   ],
   "source": [
    "train(model, train_dataloader, test_dataloader, device, save=True, epochs=50)"
   ]
  },
  {
   "cell_type": "code",
   "execution_count": 12,
   "metadata": {},
   "outputs": [],
   "source": [
    "def visualizeModelPredict(model, data):\n",
    "    fig, axs = plt.subplots(2, 5, figsize=(15, 6))\n",
    "    for i in range(2):\n",
    "        for j in range(5):\n",
    "            idx = random.randint(0, len(data))\n",
    "            img, label = data[idx]\n",
    "            model.eval()\n",
    "            with torch.inference_mode():\n",
    "                pred = data.classes[torch.argmax(model(data[idx][0].unsqueeze(dim=0).to(device)), dim=1)]\n",
    "                truth = data.classes[label]\n",
    "                axs[i, j].imshow(img.squeeze(), cmap='gray')\n",
    "                if pred == truth:\n",
    "                    axs[i, j].set_title('Pred:'+pred+', Truth:'+truth, color='green')\n",
    "                else:\n",
    "                    axs[i, j].set_title('Pred:'+pred+', Truth:'+truth, color='red')\n",
    "                axs[i, j].axis('off')\n",
    "    plt.show()"
   ]
  },
  {
   "cell_type": "code",
   "execution_count": 13,
   "metadata": {},
   "outputs": [
    {
     "data": {
      "image/png": "[encoded data removed]",
      "text/plain": [
       "<Figure size 1500x600 with 10 Axes>"
      ]
     },
     "metadata": {},
     "output_type": "display_data"
    }
   ],
   "source": [
    "visualizeModelPredict(model, test_data)"
   ]
  }
 ],
 "metadata": {
  "kernelspec": {
   "display_name": "Python 3.8.10 64-bit",
   "language": "python",
   "name": "python3"
  },
  "language_info": {
   "codemirror_mode": {
    "name": "ipython",
    "version": 3
   },
   "file_extension": ".py",
   "mimetype": "text/x-python",
   "name": "python",
   "nbconvert_exporter": "python",
   "pygments_lexer": "ipython3",
   "version": "3.8.10"
  },
  "orig_nbformat": 4,
  "vscode": {
   "interpreter": {
    "hash": "e0144baad0ecee903f108a3e46e51ceadd7da3fc904cfa79747d813b61464b4e"
   }
  }
 },
 "nbformat": 4,
 "nbformat_minor": 2
}
